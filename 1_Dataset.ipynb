{
 "cells": [
  {
   "cell_type": "markdown",
   "id": "XppDp49mc4ws",
   "metadata": {
    "id": "XppDp49mc4ws"
   },
   "source": [
    "# Dataset creation\n",
    "\n",
    "Randomly extracts 3 seconds from an audio file, computes musicnn tags and stores melspectrogram + audio + tags"
   ]
  },
  {
   "cell_type": "code",
   "execution_count": null,
   "id": "Fdt6vN44otXv",
   "metadata": {
    "colab": {
     "base_uri": "https://localhost:8080/"
    },
    "id": "Fdt6vN44otXv",
    "outputId": "d9a86b77-8c35-44dc-e4e7-d372aa9c5f07"
   },
   "outputs": [],
   "source": [
    "from google.colab import drive\n",
    "drive.mount('/content/drive')"
   ]
  },
  {
   "cell_type": "code",
   "execution_count": null,
   "id": "9MGZ_rY3pIGo",
   "metadata": {
    "id": "9MGZ_rY3pIGo"
   },
   "outputs": [],
   "source": [
    "!pip install librosa soundfile musicnn \n",
    "#matplotlib"
   ]
  },
  {
   "cell_type": "code",
   "execution_count": null,
   "id": "38c241e4",
   "metadata": {
    "id": "38c241e4"
   },
   "outputs": [],
   "source": [
    "import os, sys\n",
    "import numpy as np\n",
    "import librosa\n",
    "import random\n",
    "import soundfile as sf\n",
    "import string\n",
    "\n",
    "from tqdm.notebook import tqdm\n",
    "from musicnn.extractor import extractor\n",
    "from musicnn.tagger import top_tags\n",
    "\n",
    "import matplotlib.pyplot as plt\n",
    "\n",
    "letters = string.ascii_uppercase"
   ]
  },
  {
   "cell_type": "code",
   "execution_count": null,
   "id": "AntdTh4Jo5K6",
   "metadata": {
    "colab": {
     "base_uri": "https://localhost:8080/"
    },
    "id": "AntdTh4Jo5K6",
    "outputId": "4da06c89-aed8-4af6-de1a-7e5b152e7192"
   },
   "outputs": [],
   "source": [
    "AUDIO_DIR = \"/content/drive/MyDrive/CODE/CondVAEmelspec/data/audio_orig/\"\n",
    "#files = os.listdir(AUDIO_DIR)\n",
    "#print(len(files))"
   ]
  },
  {
   "cell_type": "code",
   "execution_count": null,
   "id": "7fd1ee96",
   "metadata": {
    "id": "7fd1ee96"
   },
   "outputs": [],
   "source": [
    "# audio params\n",
    "SR = 16000 #22050\n",
    "FFT_HOP = 256\n",
    "FFT_SIZE = 512\n",
    "N_MELS = 96"
   ]
  },
  {
   "cell_type": "code",
   "execution_count": null,
   "id": "iAP4n79MfgR8",
   "metadata": {
    "colab": {
     "base_uri": "https://localhost:8080/"
    },
    "id": "iAP4n79MfgR8",
    "outputId": "4f6e11bc-ae05-4bda-eae8-b8ce498cc641"
   },
   "outputs": [],
   "source": [
    "%cd /content/drive/MyDrive/CODE/CondVAEmelspec/data/spectrograms/\n",
    "!ls | wc -l"
   ]
  },
  {
   "cell_type": "code",
   "execution_count": null,
   "id": "d9ea7d7b",
   "metadata": {
    "id": "d9ea7d7b",
    "scrolled": true
   },
   "outputs": [],
   "source": [
    "generate_dataset = True\n",
    "\n",
    "if generate_dataset:\n",
    "    \n",
    "    # collect audio data\n",
    "    AUDIO_DATA_DIR = \"/content/drive/MyDrive/CODE/CondVAEmelspec/data/audio_orig/\"\n",
    "    SAVE_AUDIO_DIR = \"/content/drive/MyDrive/CODE/CondVAEmelspec/data/audio/\"\n",
    "    SAVE_SPEC_DIR = \"/content/drive/MyDrive/CODE/CondVAEmelspec/data/spectrograms/\"\n",
    "    SAVE_TAGS_DIR = \"/content/drive/MyDrive/CODE/CondVAEmelspec/data/tags/\"\n",
    "\n",
    "    audio_data = os.listdir(AUDIO_DATA_DIR)\n",
    "    audio_data = [i for i in audio_data if '.aif.asd' not in i]\n",
    "    random.shuffle(audio_data)\n",
    "\n",
    "    # cut randomly 3 seconds audio files\n",
    "    for i in tqdm(range(5000)):\n",
    "\n",
    "        try:\n",
    "\n",
    "            audio_file = os.path.join(AUDIO_DATA_DIR, random.choice(audio_data))\n",
    "            start_time = random.randint(0, 100)\n",
    "            MAX_DURATION = 3\n",
    "            sampled_y, sr = librosa.load(audio_file, sr=SR, offset=start_time, duration=MAX_DURATION)\n",
    "\n",
    "            # norm\n",
    "            sampled_y = librosa.util.normalize(sampled_y)\n",
    "            \n",
    "            # trim silence\n",
    "            sampled_y, _ = librosa.effects.trim(sampled_y)\n",
    "            \n",
    "            # compute duration\n",
    "            duration = librosa.get_duration(y=sampled_y, sr=sr)\n",
    "            \n",
    "            if int(duration) == MAX_DURATION:\n",
    "\n",
    "                # generate rnd filename\n",
    "                filename = ''.join(random.choice(letters) for i in range(10))\n",
    "\n",
    "                # MELSPEC\n",
    "                audio_path = os.path.join(SAVE_AUDIO_DIR, filename + '.wav')\n",
    "                sf.write(audio_path, sampled_y, sr, 'PCM_24')\n",
    "\n",
    "                spec_path = os.path.join(SAVE_SPEC_DIR, filename + '.npy')\n",
    "                melspec = librosa.feature.melspectrogram(y=sampled_y,\n",
    "                                                       sr=sr,\n",
    "                                                       hop_length=FFT_HOP,\n",
    "                                                       n_fft=FFT_SIZE,\n",
    "                                                       n_mels=N_MELS) #.T\n",
    "\n",
    "                np.save(spec_path, melspec)\n",
    "\n",
    "                #print('\\nmelspec.shape', melspec.shape)\n",
    "                #plt.imshow(melspec)\n",
    "                \n",
    "                # MUSICNN TAGS\n",
    "                musicnn_res = extractor(audio_path, model='MTT_musicnn')\n",
    "    \n",
    "                taggram = musicnn_res[0]\n",
    "                tags_likelihood_mean = np.mean(taggram, axis=0)\n",
    "                musicnn_tags_path = os.path.join(SAVE_TAGS_DIR, filename + '.npy')\n",
    "                np.save(musicnn_tags_path, tags_likelihood_mean)\n",
    "\n",
    "        except Exception as e:\n",
    "            print('exception on:', audio_file)\n",
    "            print(e)"
   ]
  }
 ],
 "metadata": {
  "colab": {
   "collapsed_sections": [],
   "name": "1. dataset.ipynb",
   "provenance": []
  },
  "kernelspec": {
   "display_name": "Python 3",
   "language": "python",
   "name": "python3"
  },
  "language_info": {
   "codemirror_mode": {
    "name": "ipython",
    "version": 3
   },
   "file_extension": ".py",
   "mimetype": "text/x-python",
   "name": "python",
   "nbconvert_exporter": "python",
   "pygments_lexer": "ipython3",
   "version": "3.7.10"
  }
 },
 "nbformat": 4,
 "nbformat_minor": 5
}
